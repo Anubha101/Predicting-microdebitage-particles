{
  "nbformat": 4,
  "nbformat_minor": 0,
  "metadata": {
    "colab": {
      "provenance": []
    },
    "kernelspec": {
      "name": "python3",
      "display_name": "Python 3"
    },
    "language_info": {
      "name": "python"
    },
    "accelerator": "GPU",
    "gpuClass": "standard",
    "widgets": {
      "application/vnd.jupyter.widget-state+json": {
        "8a26be1e095a44e48dbe81bf52d9de9c": {
          "model_module": "@jupyter-widgets/controls",
          "model_name": "HBoxModel",
          "model_module_version": "1.5.0",
          "state": {
            "_dom_classes": [],
            "_model_module": "@jupyter-widgets/controls",
            "_model_module_version": "1.5.0",
            "_model_name": "HBoxModel",
            "_view_count": null,
            "_view_module": "@jupyter-widgets/controls",
            "_view_module_version": "1.5.0",
            "_view_name": "HBoxView",
            "box_style": "",
            "children": [
              "IPY_MODEL_d98fab1e59394e2d8582be56e944dd0f",
              "IPY_MODEL_f2ff3d101985492b8f5131c554ba5a5e",
              "IPY_MODEL_a87279e063d74d0caa6905fb14acc85d"
            ],
            "layout": "IPY_MODEL_e0c94c228ead44eca2d64a3a52518ae7"
          }
        },
        "d98fab1e59394e2d8582be56e944dd0f": {
          "model_module": "@jupyter-widgets/controls",
          "model_name": "HTMLModel",
          "model_module_version": "1.5.0",
          "state": {
            "_dom_classes": [],
            "_model_module": "@jupyter-widgets/controls",
            "_model_module_version": "1.5.0",
            "_model_name": "HTMLModel",
            "_view_count": null,
            "_view_module": "@jupyter-widgets/controls",
            "_view_module_version": "1.5.0",
            "_view_name": "HTMLView",
            "description": "",
            "description_tooltip": null,
            "layout": "IPY_MODEL_194d5ed2382e4f889ddd1bfeb47b2e19",
            "placeholder": "​",
            "style": "IPY_MODEL_9d123498962042c38b62ef5dd891f1d2",
            "value": "Downloading: 100%"
          }
        },
        "f2ff3d101985492b8f5131c554ba5a5e": {
          "model_module": "@jupyter-widgets/controls",
          "model_name": "FloatProgressModel",
          "model_module_version": "1.5.0",
          "state": {
            "_dom_classes": [],
            "_model_module": "@jupyter-widgets/controls",
            "_model_module_version": "1.5.0",
            "_model_name": "FloatProgressModel",
            "_view_count": null,
            "_view_module": "@jupyter-widgets/controls",
            "_view_module_version": "1.5.0",
            "_view_name": "ProgressView",
            "bar_style": "success",
            "description": "",
            "description_tooltip": null,
            "layout": "IPY_MODEL_4d195b1f38584968b2808ec6bf582e8c",
            "max": 739523780,
            "min": 0,
            "orientation": "horizontal",
            "style": "IPY_MODEL_18d29dc358b94ebd94311030529ffb73",
            "value": 739523780
          }
        },
        "a87279e063d74d0caa6905fb14acc85d": {
          "model_module": "@jupyter-widgets/controls",
          "model_name": "HTMLModel",
          "model_module_version": "1.5.0",
          "state": {
            "_dom_classes": [],
            "_model_module": "@jupyter-widgets/controls",
            "_model_module_version": "1.5.0",
            "_model_name": "HTMLModel",
            "_view_count": null,
            "_view_module": "@jupyter-widgets/controls",
            "_view_module_version": "1.5.0",
            "_view_name": "HTMLView",
            "description": "",
            "description_tooltip": null,
            "layout": "IPY_MODEL_a12a648636ff4b1ea96ce3ac1af6e237",
            "placeholder": "​",
            "style": "IPY_MODEL_6f2657d56807455b987a3c814cd586ef",
            "value": " 740M/740M [00:36&lt;00:00, 58.9MB/s]"
          }
        },
        "e0c94c228ead44eca2d64a3a52518ae7": {
          "model_module": "@jupyter-widgets/base",
          "model_name": "LayoutModel",
          "model_module_version": "1.2.0",
          "state": {
            "_model_module": "@jupyter-widgets/base",
            "_model_module_version": "1.2.0",
            "_model_name": "LayoutModel",
            "_view_count": null,
            "_view_module": "@jupyter-widgets/base",
            "_view_module_version": "1.2.0",
            "_view_name": "LayoutView",
            "align_content": null,
            "align_items": null,
            "align_self": null,
            "border": null,
            "bottom": null,
            "display": null,
            "flex": null,
            "flex_flow": null,
            "grid_area": null,
            "grid_auto_columns": null,
            "grid_auto_flow": null,
            "grid_auto_rows": null,
            "grid_column": null,
            "grid_gap": null,
            "grid_row": null,
            "grid_template_areas": null,
            "grid_template_columns": null,
            "grid_template_rows": null,
            "height": null,
            "justify_content": null,
            "justify_items": null,
            "left": null,
            "margin": null,
            "max_height": null,
            "max_width": null,
            "min_height": null,
            "min_width": null,
            "object_fit": null,
            "object_position": null,
            "order": null,
            "overflow": null,
            "overflow_x": null,
            "overflow_y": null,
            "padding": null,
            "right": null,
            "top": null,
            "visibility": null,
            "width": null
          }
        },
        "194d5ed2382e4f889ddd1bfeb47b2e19": {
          "model_module": "@jupyter-widgets/base",
          "model_name": "LayoutModel",
          "model_module_version": "1.2.0",
          "state": {
            "_model_module": "@jupyter-widgets/base",
            "_model_module_version": "1.2.0",
            "_model_name": "LayoutModel",
            "_view_count": null,
            "_view_module": "@jupyter-widgets/base",
            "_view_module_version": "1.2.0",
            "_view_name": "LayoutView",
            "align_content": null,
            "align_items": null,
            "align_self": null,
            "border": null,
            "bottom": null,
            "display": null,
            "flex": null,
            "flex_flow": null,
            "grid_area": null,
            "grid_auto_columns": null,
            "grid_auto_flow": null,
            "grid_auto_rows": null,
            "grid_column": null,
            "grid_gap": null,
            "grid_row": null,
            "grid_template_areas": null,
            "grid_template_columns": null,
            "grid_template_rows": null,
            "height": null,
            "justify_content": null,
            "justify_items": null,
            "left": null,
            "margin": null,
            "max_height": null,
            "max_width": null,
            "min_height": null,
            "min_width": null,
            "object_fit": null,
            "object_position": null,
            "order": null,
            "overflow": null,
            "overflow_x": null,
            "overflow_y": null,
            "padding": null,
            "right": null,
            "top": null,
            "visibility": null,
            "width": null
          }
        },
        "9d123498962042c38b62ef5dd891f1d2": {
          "model_module": "@jupyter-widgets/controls",
          "model_name": "DescriptionStyleModel",
          "model_module_version": "1.5.0",
          "state": {
            "_model_module": "@jupyter-widgets/controls",
            "_model_module_version": "1.5.0",
            "_model_name": "DescriptionStyleModel",
            "_view_count": null,
            "_view_module": "@jupyter-widgets/base",
            "_view_module_version": "1.2.0",
            "_view_name": "StyleView",
            "description_width": ""
          }
        },
        "4d195b1f38584968b2808ec6bf582e8c": {
          "model_module": "@jupyter-widgets/base",
          "model_name": "LayoutModel",
          "model_module_version": "1.2.0",
          "state": {
            "_model_module": "@jupyter-widgets/base",
            "_model_module_version": "1.2.0",
            "_model_name": "LayoutModel",
            "_view_count": null,
            "_view_module": "@jupyter-widgets/base",
            "_view_module_version": "1.2.0",
            "_view_name": "LayoutView",
            "align_content": null,
            "align_items": null,
            "align_self": null,
            "border": null,
            "bottom": null,
            "display": null,
            "flex": null,
            "flex_flow": null,
            "grid_area": null,
            "grid_auto_columns": null,
            "grid_auto_flow": null,
            "grid_auto_rows": null,
            "grid_column": null,
            "grid_gap": null,
            "grid_row": null,
            "grid_template_areas": null,
            "grid_template_columns": null,
            "grid_template_rows": null,
            "height": null,
            "justify_content": null,
            "justify_items": null,
            "left": null,
            "margin": null,
            "max_height": null,
            "max_width": null,
            "min_height": null,
            "min_width": null,
            "object_fit": null,
            "object_position": null,
            "order": null,
            "overflow": null,
            "overflow_x": null,
            "overflow_y": null,
            "padding": null,
            "right": null,
            "top": null,
            "visibility": null,
            "width": null
          }
        },
        "18d29dc358b94ebd94311030529ffb73": {
          "model_module": "@jupyter-widgets/controls",
          "model_name": "ProgressStyleModel",
          "model_module_version": "1.5.0",
          "state": {
            "_model_module": "@jupyter-widgets/controls",
            "_model_module_version": "1.5.0",
            "_model_name": "ProgressStyleModel",
            "_view_count": null,
            "_view_module": "@jupyter-widgets/base",
            "_view_module_version": "1.2.0",
            "_view_name": "StyleView",
            "bar_color": null,
            "description_width": ""
          }
        },
        "a12a648636ff4b1ea96ce3ac1af6e237": {
          "model_module": "@jupyter-widgets/base",
          "model_name": "LayoutModel",
          "model_module_version": "1.2.0",
          "state": {
            "_model_module": "@jupyter-widgets/base",
            "_model_module_version": "1.2.0",
            "_model_name": "LayoutModel",
            "_view_count": null,
            "_view_module": "@jupyter-widgets/base",
            "_view_module_version": "1.2.0",
            "_view_name": "LayoutView",
            "align_content": null,
            "align_items": null,
            "align_self": null,
            "border": null,
            "bottom": null,
            "display": null,
            "flex": null,
            "flex_flow": null,
            "grid_area": null,
            "grid_auto_columns": null,
            "grid_auto_flow": null,
            "grid_auto_rows": null,
            "grid_column": null,
            "grid_gap": null,
            "grid_row": null,
            "grid_template_areas": null,
            "grid_template_columns": null,
            "grid_template_rows": null,
            "height": null,
            "justify_content": null,
            "justify_items": null,
            "left": null,
            "margin": null,
            "max_height": null,
            "max_width": null,
            "min_height": null,
            "min_width": null,
            "object_fit": null,
            "object_position": null,
            "order": null,
            "overflow": null,
            "overflow_x": null,
            "overflow_y": null,
            "padding": null,
            "right": null,
            "top": null,
            "visibility": null,
            "width": null
          }
        },
        "6f2657d56807455b987a3c814cd586ef": {
          "model_module": "@jupyter-widgets/controls",
          "model_name": "DescriptionStyleModel",
          "model_module_version": "1.5.0",
          "state": {
            "_model_module": "@jupyter-widgets/controls",
            "_model_module_version": "1.5.0",
            "_model_name": "DescriptionStyleModel",
            "_view_count": null,
            "_view_module": "@jupyter-widgets/base",
            "_view_module_version": "1.2.0",
            "_view_name": "StyleView",
            "description_width": ""
          }
        }
      }
    }
  },
  "cells": [
    {
      "cell_type": "markdown",
      "metadata": {
        "id": "view-in-github"
      },
      "source": [
        "<a href=\"https://colab.research.google.com/github/darasliwinski/nlp_disaster/blob/bertweet1/BERTweet.ipynb\" target=\"_parent\"><img src=\"https://colab.research.google.com/assets/colab-badge.svg\" alt=\"Open In Colab\"/></a>"
      ]
    },
    {
      "cell_type": "code",
      "source": [
        "# install packages\n",
        "#!pip install ipynb\n",
        "!pip install import_ipynb"
      ],
      "metadata": {
        "colab": {
          "base_uri": "https://localhost:8080/"
        },
        "id": "k-Ty69sYwOiJ",
        "outputId": "751491c4-4028-42b2-df8d-82befb802762"
      },
      "execution_count": 1,
      "outputs": [
        {
          "output_type": "stream",
          "name": "stdout",
          "text": [
            "Looking in indexes: https://pypi.org/simple, https://us-python.pkg.dev/colab-wheels/public/simple/\n",
            "Collecting import_ipynb\n",
            "  Downloading import_ipynb-0.1.4-py3-none-any.whl (4.1 kB)\n",
            "Requirement already satisfied: nbformat in /usr/local/lib/python3.7/dist-packages (from import_ipynb) (5.7.0)\n",
            "Requirement already satisfied: IPython in /usr/local/lib/python3.7/dist-packages (from import_ipynb) (7.9.0)\n",
            "Requirement already satisfied: backcall in /usr/local/lib/python3.7/dist-packages (from IPython->import_ipynb) (0.2.0)\n",
            "Requirement already satisfied: setuptools>=18.5 in /usr/local/lib/python3.7/dist-packages (from IPython->import_ipynb) (57.4.0)\n",
            "Requirement already satisfied: pickleshare in /usr/local/lib/python3.7/dist-packages (from IPython->import_ipynb) (0.7.5)\n",
            "Requirement already satisfied: decorator in /usr/local/lib/python3.7/dist-packages (from IPython->import_ipynb) (4.4.2)\n",
            "Requirement already satisfied: pygments in /usr/local/lib/python3.7/dist-packages (from IPython->import_ipynb) (2.6.1)\n",
            "Requirement already satisfied: prompt-toolkit<2.1.0,>=2.0.0 in /usr/local/lib/python3.7/dist-packages (from IPython->import_ipynb) (2.0.10)\n",
            "Requirement already satisfied: traitlets>=4.2 in /usr/local/lib/python3.7/dist-packages (from IPython->import_ipynb) (5.1.1)\n",
            "Requirement already satisfied: pexpect in /usr/local/lib/python3.7/dist-packages (from IPython->import_ipynb) (4.8.0)\n",
            "Collecting jedi>=0.10\n",
            "  Downloading jedi-0.18.2-py2.py3-none-any.whl (1.6 MB)\n",
            "\u001b[K     |████████████████████████████████| 1.6 MB 39.7 MB/s \n",
            "\u001b[?25hRequirement already satisfied: parso<0.9.0,>=0.8.0 in /usr/local/lib/python3.7/dist-packages (from jedi>=0.10->IPython->import_ipynb) (0.8.3)\n",
            "Requirement already satisfied: wcwidth in /usr/local/lib/python3.7/dist-packages (from prompt-toolkit<2.1.0,>=2.0.0->IPython->import_ipynb) (0.2.5)\n",
            "Requirement already satisfied: six>=1.9.0 in /usr/local/lib/python3.7/dist-packages (from prompt-toolkit<2.1.0,>=2.0.0->IPython->import_ipynb) (1.15.0)\n",
            "Requirement already satisfied: fastjsonschema in /usr/local/lib/python3.7/dist-packages (from nbformat->import_ipynb) (2.16.2)\n",
            "Requirement already satisfied: jsonschema>=2.6 in /usr/local/lib/python3.7/dist-packages (from nbformat->import_ipynb) (4.3.3)\n",
            "Requirement already satisfied: importlib-metadata>=3.6 in /usr/local/lib/python3.7/dist-packages (from nbformat->import_ipynb) (4.13.0)\n",
            "Requirement already satisfied: jupyter-core in /usr/local/lib/python3.7/dist-packages (from nbformat->import_ipynb) (4.11.2)\n",
            "Requirement already satisfied: typing-extensions>=3.6.4 in /usr/local/lib/python3.7/dist-packages (from importlib-metadata>=3.6->nbformat->import_ipynb) (4.1.1)\n",
            "Requirement already satisfied: zipp>=0.5 in /usr/local/lib/python3.7/dist-packages (from importlib-metadata>=3.6->nbformat->import_ipynb) (3.10.0)\n",
            "Requirement already satisfied: pyrsistent!=0.17.0,!=0.17.1,!=0.17.2,>=0.14.0 in /usr/local/lib/python3.7/dist-packages (from jsonschema>=2.6->nbformat->import_ipynb) (0.19.2)\n",
            "Requirement already satisfied: attrs>=17.4.0 in /usr/local/lib/python3.7/dist-packages (from jsonschema>=2.6->nbformat->import_ipynb) (22.1.0)\n",
            "Requirement already satisfied: importlib-resources>=1.4.0 in /usr/local/lib/python3.7/dist-packages (from jsonschema>=2.6->nbformat->import_ipynb) (5.10.0)\n",
            "Requirement already satisfied: ptyprocess>=0.5 in /usr/local/lib/python3.7/dist-packages (from pexpect->IPython->import_ipynb) (0.7.0)\n",
            "Installing collected packages: jedi, import-ipynb\n",
            "Successfully installed import-ipynb-0.1.4 jedi-0.18.2\n"
          ]
        }
      ]
    },
    {
      "cell_type": "code",
      "source": [
        "import pandas as pd\n",
        "import numpy as np\n",
        "\n",
        "# For cleaning the text\n",
        "import spacy\n",
        "import nltk\n",
        "from nltk.tokenize import word_tokenize\n",
        "from nltk.corpus import stopwords\n",
        "import regex as re\n",
        "import string\n",
        "\n",
        "# For visualization\n",
        "import matplotlib.pyplot as plt\n",
        "import seaborn as sns\n",
        "pd.set_option('display.max_colwidth', None)\n",
        "\n",
        "# For building our model\n",
        "import tensorflow.keras\n",
        "import sklearn\n",
        "from tensorflow.keras import layers\n",
        "from tensorflow.keras import Model\n",
        "from tensorflow.keras.optimizers import SGD, Adam\n",
        "from tensorflow.keras.callbacks import ModelCheckpoint\n",
        "from tensorflow.keras.layers import Dense, Input, Dropout, GlobalAveragePooling1D"
      ],
      "metadata": {
        "id": "E_ReeIYCfN0Z"
      },
      "execution_count": 2,
      "outputs": []
    },
    {
      "cell_type": "code",
      "execution_count": 3,
      "metadata": {
        "colab": {
          "base_uri": "https://localhost:8080/"
        },
        "id": "nSsdbS66v34I",
        "outputId": "bbecd322-1acd-4951-f3dd-c696ec9e0c61"
      },
      "outputs": [
        {
          "output_type": "stream",
          "name": "stdout",
          "text": [
            "Mounted at /content/drive\n"
          ]
        }
      ],
      "source": [
        "# mount drive\n",
        "from google.colab import drive\n",
        "drive.mount('/content/drive')"
      ]
    },
    {
      "cell_type": "code",
      "source": [
        "# move to directory where original notebook is stored\n",
        "%cd \"/content/drive/MyDrive/Colab Notebooks\""
      ],
      "metadata": {
        "colab": {
          "base_uri": "https://localhost:8080/"
        },
        "id": "n4gpo4OiwNFP",
        "outputId": "c9120d89-8e3a-4dc7-da27-7fa94673209d"
      },
      "execution_count": 4,
      "outputs": [
        {
          "output_type": "stream",
          "name": "stdout",
          "text": [
            "/content/drive/MyDrive/Colab Notebooks\n"
          ]
        }
      ]
    },
    {
      "cell_type": "code",
      "source": [
        "# import package and original notebook (as A for easy reference)\n",
        "import import_ipynb\n",
        "import nlpDisaster as A"
      ],
      "metadata": {
        "id": "P6ae5zDjx43k"
      },
      "execution_count": 6,
      "outputs": []
    },
    {
      "cell_type": "markdown",
      "source": [
        "# BERTweet"
      ],
      "metadata": {
        "id": "-WqZ9OKcxsya"
      }
    },
    {
      "cell_type": "code",
      "source": [
        "!pip install transformers"
      ],
      "metadata": {
        "colab": {
          "base_uri": "https://localhost:8080/"
        },
        "id": "yjITFayh6x16",
        "outputId": "de3e1188-609c-4663-d903-e8ffe668f8b6"
      },
      "execution_count": 7,
      "outputs": [
        {
          "output_type": "stream",
          "name": "stdout",
          "text": [
            "Looking in indexes: https://pypi.org/simple, https://us-python.pkg.dev/colab-wheels/public/simple/\n",
            "Collecting transformers\n",
            "  Downloading transformers-4.24.0-py3-none-any.whl (5.5 MB)\n",
            "\u001b[K     |████████████████████████████████| 5.5 MB 31.3 MB/s \n",
            "\u001b[?25hRequirement already satisfied: filelock in /usr/local/lib/python3.7/dist-packages (from transformers) (3.8.0)\n",
            "Requirement already satisfied: packaging>=20.0 in /usr/local/lib/python3.7/dist-packages (from transformers) (21.3)\n",
            "Requirement already satisfied: tqdm>=4.27 in /usr/local/lib/python3.7/dist-packages (from transformers) (4.64.1)\n",
            "Collecting huggingface-hub<1.0,>=0.10.0\n",
            "  Downloading huggingface_hub-0.11.1-py3-none-any.whl (182 kB)\n",
            "\u001b[K     |████████████████████████████████| 182 kB 56.9 MB/s \n",
            "\u001b[?25hCollecting tokenizers!=0.11.3,<0.14,>=0.11.1\n",
            "  Downloading tokenizers-0.13.2-cp37-cp37m-manylinux_2_17_x86_64.manylinux2014_x86_64.whl (7.6 MB)\n",
            "\u001b[K     |████████████████████████████████| 7.6 MB 58.1 MB/s \n",
            "\u001b[?25hRequirement already satisfied: regex!=2019.12.17 in /usr/local/lib/python3.7/dist-packages (from transformers) (2022.6.2)\n",
            "Requirement already satisfied: requests in /usr/local/lib/python3.7/dist-packages (from transformers) (2.23.0)\n",
            "Requirement already satisfied: importlib-metadata in /usr/local/lib/python3.7/dist-packages (from transformers) (4.13.0)\n",
            "Requirement already satisfied: numpy>=1.17 in /usr/local/lib/python3.7/dist-packages (from transformers) (1.21.6)\n",
            "Requirement already satisfied: pyyaml>=5.1 in /usr/local/lib/python3.7/dist-packages (from transformers) (6.0)\n",
            "Requirement already satisfied: typing-extensions>=3.7.4.3 in /usr/local/lib/python3.7/dist-packages (from huggingface-hub<1.0,>=0.10.0->transformers) (4.1.1)\n",
            "Requirement already satisfied: pyparsing!=3.0.5,>=2.0.2 in /usr/local/lib/python3.7/dist-packages (from packaging>=20.0->transformers) (3.0.9)\n",
            "Requirement already satisfied: zipp>=0.5 in /usr/local/lib/python3.7/dist-packages (from importlib-metadata->transformers) (3.10.0)\n",
            "Requirement already satisfied: chardet<4,>=3.0.2 in /usr/local/lib/python3.7/dist-packages (from requests->transformers) (3.0.4)\n",
            "Requirement already satisfied: certifi>=2017.4.17 in /usr/local/lib/python3.7/dist-packages (from requests->transformers) (2022.9.24)\n",
            "Requirement already satisfied: idna<3,>=2.5 in /usr/local/lib/python3.7/dist-packages (from requests->transformers) (2.10)\n",
            "Requirement already satisfied: urllib3!=1.25.0,!=1.25.1,<1.26,>=1.21.1 in /usr/local/lib/python3.7/dist-packages (from requests->transformers) (1.24.3)\n",
            "Installing collected packages: tokenizers, huggingface-hub, transformers\n",
            "Successfully installed huggingface-hub-0.11.1 tokenizers-0.13.2 transformers-4.24.0\n"
          ]
        }
      ]
    },
    {
      "cell_type": "code",
      "source": [
        "import warnings\n",
        "warnings.simplefilter(action='ignore', category=FutureWarning)\n",
        "\n",
        "import pandas as pd\n",
        "import numpy as np\n",
        "\n",
        "from sklearn.model_selection import train_test_split\n",
        "\n",
        "!pip install tensorflow_addons\n",
        "import tensorflow as tf\n",
        "import tensorflow_addons as tfa\n",
        "from transformers import AutoTokenizer,TFRobertaModel\n",
        "    "
      ],
      "metadata": {
        "colab": {
          "base_uri": "https://localhost:8080/"
        },
        "id": "ycpmKFnW7scm",
        "outputId": "b2d3c908-7a3f-491f-8c83-ef08bdad8418"
      },
      "execution_count": 8,
      "outputs": [
        {
          "output_type": "stream",
          "name": "stdout",
          "text": [
            "Looking in indexes: https://pypi.org/simple, https://us-python.pkg.dev/colab-wheels/public/simple/\n",
            "Collecting tensorflow_addons\n",
            "  Downloading tensorflow_addons-0.18.0-cp37-cp37m-manylinux_2_17_x86_64.manylinux2014_x86_64.whl (1.1 MB)\n",
            "\u001b[K     |████████████████████████████████| 1.1 MB 31.1 MB/s \n",
            "\u001b[?25hRequirement already satisfied: typeguard>=2.7 in /usr/local/lib/python3.7/dist-packages (from tensorflow_addons) (2.7.1)\n",
            "Requirement already satisfied: packaging in /usr/local/lib/python3.7/dist-packages (from tensorflow_addons) (21.3)\n",
            "Requirement already satisfied: pyparsing!=3.0.5,>=2.0.2 in /usr/local/lib/python3.7/dist-packages (from packaging->tensorflow_addons) (3.0.9)\n",
            "Installing collected packages: tensorflow-addons\n",
            "Successfully installed tensorflow-addons-0.18.0\n"
          ]
        }
      ]
    },
    {
      "cell_type": "code",
      "source": [
        "df = pd.read_csv('/content/drive/MyDrive/Colab Notebooks/train.csv') \n",
        "df.head()\n",
        "x = (df['text']\n",
        "     .str.lower()     \n",
        "     .str.replace('\\x89Ûª|Ûª', \"'\")\n",
        "     .str.replace('\\n|\\x89.|\\x9d *', ' ')\n",
        "     .str.replace('&gt;', \">\")\n",
        "     .str.replace('&lt;', \"<\")\n",
        "     .str.replace('&amp;', \" and \")\n",
        "     .str.replace('won\\'t', 'will not')\n",
        "     .str.replace('can\\'t', 'cannot')\n",
        "     .str.replace('i\\'m', 'i am')\n",
        "     .str.replace('ain\\'t', 'is not')\n",
        "     .str.replace('hwy.', 'highway')\n",
        "     .str.replace('(\\w+)\\'ll', '\\g<1> will')\n",
        "     .str.replace('(\\w+)n\\'t', '\\g<1> not')\n",
        "     .str.replace('(\\w+)\\'ve', '\\g<1> have')\n",
        "     .str.replace('(\\w+)\\'s', '\\g<1> is')\n",
        "     .str.replace('(\\w+)\\'re', '\\g<1> are')\n",
        "     .str.replace('(\\w+)\\'d', '\\g<1> would')     \n",
        "     .str.replace('(\\w+)\\'m', '\\g<1> am')\n",
        "     .str.replace('<3', 'love')\n",
        "     .str.replace('w/e', 'whatever')\n",
        "     .str.replace('w/', 'with')    \n",
        "     .str.replace('\\b', ' ')\n",
        "     .str.replace('-', ' ')\n",
        "     .str.replace('  *', ' ')\n",
        "     .str.strip()\n",
        "     .to_numpy()\n",
        "    )\n",
        "y = df['target'].to_numpy()\n",
        "\n",
        "#x_train, x_val, y_train, y_val = train_test_split(x, y, train_size = 0.7, random_state = 1000)"
      ],
      "metadata": {
        "id": "0aVqky3M7sWy"
      },
      "execution_count": 16,
      "outputs": []
    },
    {
      "cell_type": "code",
      "source": [
        "y.shape()"
      ],
      "metadata": {
        "colab": {
          "base_uri": "https://localhost:8080/",
          "height": 169
        },
        "id": "0n2qxGMw7sGH",
        "outputId": "8f5840bc-5c3e-48e7-f726-66a16fa8f0e4"
      },
      "execution_count": 31,
      "outputs": [
        {
          "output_type": "error",
          "ename": "TypeError",
          "evalue": "ignored",
          "traceback": [
            "\u001b[0;31m---------------------------------------------------------------------------\u001b[0m",
            "\u001b[0;31mTypeError\u001b[0m                                 Traceback (most recent call last)",
            "\u001b[0;32m<ipython-input-31-c5cc93b6f9c2>\u001b[0m in \u001b[0;36m<module>\u001b[0;34m\u001b[0m\n\u001b[0;32m----> 1\u001b[0;31m \u001b[0my\u001b[0m\u001b[0;34m.\u001b[0m\u001b[0mshape\u001b[0m\u001b[0;34m(\u001b[0m\u001b[0;34m)\u001b[0m\u001b[0;34m\u001b[0m\u001b[0;34m\u001b[0m\u001b[0m\n\u001b[0m",
            "\u001b[0;31mTypeError\u001b[0m: 'tuple' object is not callable"
          ]
        }
      ]
    },
    {
      "cell_type": "markdown",
      "source": [
        "# Tokenizer\n",
        "\n",
        "Download from HuggingFace\n",
        "This tokenizer was trained on millions of tweets unrelated to this task."
      ],
      "metadata": {
        "id": "ewr8ap7P_Mac"
      }
    },
    {
      "cell_type": "code",
      "source": [
        "!pip install emoji==0.6.0"
      ],
      "metadata": {
        "colab": {
          "base_uri": "https://localhost:8080/"
        },
        "id": "kAO3ZrtR_t_N",
        "outputId": "d7fffa1d-9188-405f-da4a-24baa1aa689c"
      },
      "execution_count": 11,
      "outputs": [
        {
          "output_type": "stream",
          "name": "stdout",
          "text": [
            "Looking in indexes: https://pypi.org/simple, https://us-python.pkg.dev/colab-wheels/public/simple/\n",
            "Collecting emoji==0.6.0\n",
            "  Downloading emoji-0.6.0.tar.gz (51 kB)\n",
            "\u001b[K     |████████████████████████████████| 51 kB 7.1 MB/s \n",
            "\u001b[?25hBuilding wheels for collected packages: emoji\n",
            "  Building wheel for emoji (setup.py) ... \u001b[?25l\u001b[?25hdone\n",
            "  Created wheel for emoji: filename=emoji-0.6.0-py3-none-any.whl size=49735 sha256=236168995f818de98c2949e31e06a13071e1461c880825628743f6d17e83c495\n",
            "  Stored in directory: /root/.cache/pip/wheels/4e/bf/6b/2e22b3708d14bf6384f862db539b044d6931bd6b14ad3c9adc\n",
            "Successfully built emoji\n",
            "Installing collected packages: emoji\n",
            "Successfully installed emoji-0.6.0\n"
          ]
        }
      ]
    },
    {
      "cell_type": "code",
      "source": [
        "from sklearn.model_selection import train_test_split\n",
        "x_train, x_test, y_train, y_test = train_test_split(x, y, test_size = 0.15, random_state = 42)\n",
        "x_val, x_test, y_val, y_test = train_test_split(x_test, y_test, test_size = 0.5, random_state = 42)"
      ],
      "metadata": {
        "id": "r9lzYB_nkp8p"
      },
      "execution_count": 32,
      "outputs": []
    },
    {
      "cell_type": "code",
      "source": [
        "print(x_train.shape)"
      ],
      "metadata": {
        "colab": {
          "base_uri": "https://localhost:8080/"
        },
        "id": "amN4hSUwmc5A",
        "outputId": "196c0649-7aed-4811-a380-5b50f331ea4c"
      },
      "execution_count": 35,
      "outputs": [
        {
          "output_type": "stream",
          "name": "stdout",
          "text": [
            "(6471,)\n"
          ]
        }
      ]
    },
    {
      "cell_type": "code",
      "source": [
        "tokenizer = AutoTokenizer.from_pretrained('vinai/bertweet-base', \n",
        "                                          normalization=True, \n",
        "                                          use_fast = False,\n",
        "                                          add_special_tokens=True,\n",
        "                                          pad_to_max_length=True,\n",
        "                                          return_attention_mask=True)\n",
        "\n",
        "train_token = tokenizer(x_train.tolist(), \n",
        "                    padding=\"max_length\", \n",
        "                    truncation=True,\n",
        "                    return_tensors = 'tf').data\n",
        "val_token = tokenizer(x_val.tolist(), \n",
        "                    padding=\"max_length\", \n",
        "                    truncation=True,\n",
        "                    return_tensors = 'tf').data\n",
        "\n",
        "train_features = {x: train_token[x] for x in tokenizer.model_input_names}\n",
        "train_tf_dataset = tf.data.Dataset.from_tensor_slices((train_features, y_train))\n",
        "train_tf_dataset = train_tf_dataset.shuffle(len(x_train)).batch(32).prefetch(tf.data.AUTOTUNE)\n",
        "\n",
        "val_features = {x: val_token[x] for x in tokenizer.model_input_names}\n",
        "val_tf_dataset = tf.data.Dataset.from_tensor_slices((val_features, y_val))\n",
        "val_tf_dataset = val_tf_dataset.shuffle(len(x_val)).batch(32).prefetch(tf.data.AUTOTUNE)"
      ],
      "metadata": {
        "colab": {
          "base_uri": "https://localhost:8080/"
        },
        "id": "cj7nBi48_Zj4",
        "outputId": "b5c4b696-aa81-46d5-ced8-6755d4fd4751"
      },
      "execution_count": 36,
      "outputs": [
        {
          "output_type": "stream",
          "name": "stderr",
          "text": [
            "Special tokens have been added in the vocabulary, make sure the associated word embeddings are fine-tuned or trained.\n"
          ]
        }
      ]
    },
    {
      "cell_type": "markdown",
      "source": [
        "# Train\n",
        "Take the matching transformer model and append a simple feed forward network"
      ],
      "metadata": {
        "id": "rMo_MaUw_7-M"
      }
    },
    {
      "cell_type": "code",
      "source": [
        "!pip install Strategy"
      ],
      "metadata": {
        "colab": {
          "base_uri": "https://localhost:8080/"
        },
        "id": "dqgqCFGlAKKW",
        "outputId": "2d42deff-aed5-4549-e677-60ae285f0826"
      },
      "execution_count": 37,
      "outputs": [
        {
          "output_type": "stream",
          "name": "stdout",
          "text": [
            "Looking in indexes: https://pypi.org/simple, https://us-python.pkg.dev/colab-wheels/public/simple/\n",
            "\u001b[31mERROR: Could not find a version that satisfies the requirement Strategy (from versions: none)\u001b[0m\n",
            "\u001b[31mERROR: No matching distribution found for Strategy\u001b[0m\n"
          ]
        }
      ]
    },
    {
      "cell_type": "code",
      "source": [
        "strategy = tf.distribute.MirroredStrategy()\n",
        "with strategy.scope():  \n",
        "    bert_model = TFRobertaModel.from_pretrained(\"vinai/bertweet-base\")\n",
        "\n",
        "def build_model(hidden_n, drop = 0.3, lr = 1e-5, weight_decay = 1e-6):\n",
        "    with strategy.scope():    \n",
        "        input_ids = tf.keras.Input(shape=(128,),dtype='int32', name = 'input_ids')\n",
        "        attention_masks = tf.keras.Input(shape=(128,),dtype='int32', name = 'attention_mask')\n",
        "\n",
        "        output = bert_model([input_ids,attention_masks])[1]\n",
        "        output = tf.keras.layers.Dense(hidden_n,activation='relu')(output)\n",
        "        output = tf.keras.layers.Dropout(drop)(output)\n",
        "        output = tf.keras.layers.Dense(1,activation='sigmoid')(output)\n",
        "\n",
        "        model = tf.keras.models.Model(inputs = [input_ids,attention_masks], outputs = output)\n",
        "\n",
        "        f1_score = tfa.metrics.F1Score(1, threshold = 0.5)\n",
        "        model.compile(tfa.optimizers.AdamW(weight_decay = weight_decay, lr=lr), \n",
        "                      loss='binary_crossentropy', \n",
        "                      metrics=['accuracy', f1_score])\n",
        "\n",
        "        # Prevent training the transformer from training again\n",
        "        model.layers[2].trainable = False\n",
        "        \n",
        "        return model"
      ],
      "metadata": {
        "colab": {
          "base_uri": "https://localhost:8080/",
          "height": 158,
          "referenced_widgets": [
            "8a26be1e095a44e48dbe81bf52d9de9c",
            "d98fab1e59394e2d8582be56e944dd0f",
            "f2ff3d101985492b8f5131c554ba5a5e",
            "a87279e063d74d0caa6905fb14acc85d",
            "e0c94c228ead44eca2d64a3a52518ae7",
            "194d5ed2382e4f889ddd1bfeb47b2e19",
            "9d123498962042c38b62ef5dd891f1d2",
            "4d195b1f38584968b2808ec6bf582e8c",
            "18d29dc358b94ebd94311030529ffb73",
            "a12a648636ff4b1ea96ce3ac1af6e237",
            "6f2657d56807455b987a3c814cd586ef"
          ]
        },
        "id": "jwXDHVKj_aPo",
        "outputId": "95926193-18df-49a2-b46e-ef60b31a57df"
      },
      "execution_count": 38,
      "outputs": [
        {
          "output_type": "display_data",
          "data": {
            "text/plain": [
              "Downloading:   0%|          | 0.00/740M [00:00<?, ?B/s]"
            ],
            "application/vnd.jupyter.widget-view+json": {
              "version_major": 2,
              "version_minor": 0,
              "model_id": "8a26be1e095a44e48dbe81bf52d9de9c"
            }
          },
          "metadata": {}
        },
        {
          "output_type": "stream",
          "name": "stderr",
          "text": [
            "Some layers from the model checkpoint at vinai/bertweet-base were not used when initializing TFRobertaModel: ['lm_head']\n",
            "- This IS expected if you are initializing TFRobertaModel from the checkpoint of a model trained on another task or with another architecture (e.g. initializing a BertForSequenceClassification model from a BertForPreTraining model).\n",
            "- This IS NOT expected if you are initializing TFRobertaModel from the checkpoint of a model that you expect to be exactly identical (initializing a BertForSequenceClassification model from a BertForSequenceClassification model).\n",
            "All the layers of TFRobertaModel were initialized from the model checkpoint at vinai/bertweet-base.\n",
            "If your task is similar to the task the model of the checkpoint was trained on, you can already use TFRobertaModel for predictions without further training.\n"
          ]
        }
      ]
    },
    {
      "cell_type": "code",
      "source": [
        "grid = [{'hidden_n': 16, 'drop': 0.3, 'lr': 1e-5, 'weight_decay': 1e-6},\n",
        "        {'hidden_n': 32, 'drop': 0.3, 'lr': 1e-5, 'weight_decay': 1e-6},\n",
        "        {'hidden_n': 32, 'drop': 0.3, 'lr': 5e-6, 'weight_decay': 1e-6},\n",
        "        {'hidden_n': 32, 'drop': 0.25, 'lr': 1e-5, 'weight_decay': 5e-6},,#best val f1\n",
        "        {'hidden_n': 32, 'drop': 0.35, 'lr': 1e-5, 'weight_decay': 5e-7}\n",
        "        {'hidden_n': 64, 'drop': 0.3, 'lr': 1e-5, 'weight_decay': 1e-6},\n",
        "        {'hidden_n': 64, 'drop': 0.3, 'lr': 1e-5, 'weight_decay': 5e-6},\n",
        "       ]\n",
        "\n",
        "def run_loop(**kwargs):\n",
        "    model = build_model(**kwargs)\n",
        "    history = model.fit(train_tf_dataset,\n",
        "                        validation_data = val_tf_dataset,\n",
        "                        epochs = 2)\n",
        "    return {**kwargs, 'model': model, 'f1': history.history['val_f1_score'][-1][0]}\n",
        "\n",
        "results = [run_loop(**params) for params in grid]"
      ],
      "metadata": {
        "colab": {
          "base_uri": "https://localhost:8080/"
        },
        "id": "NKaL6DtL_aMO",
        "outputId": "cc609842-951d-4543-f513-941548770dd5"
      },
      "execution_count": 39,
      "outputs": [
        {
          "output_type": "stream",
          "name": "stderr",
          "text": [
            "/usr/local/lib/python3.7/dist-packages/keras/optimizers/optimizer_v2/adam.py:110: UserWarning: The `lr` argument is deprecated, use `learning_rate` instead.\n",
            "  super(Adam, self).__init__(name, **kwargs)\n"
          ]
        },
        {
          "output_type": "stream",
          "name": "stdout",
          "text": [
            "Epoch 1/2\n"
          ]
        },
        {
          "output_type": "stream",
          "name": "stderr",
          "text": [
            "/usr/local/lib/python3.7/dist-packages/keras/engine/functional.py:566: UserWarning: Input dict contained keys ['token_type_ids'] which did not match any model input. They will be ignored by the model.\n",
            "  inputs = self._flatten_to_reference_inputs(inputs)\n"
          ]
        },
        {
          "output_type": "stream",
          "name": "stdout",
          "text": [
            "203/203 [==============================] - 195s 863ms/step - loss: 0.5013 - accuracy: 0.7767 - f1_score: 0.7124 - val_loss: 0.3919 - val_accuracy: 0.8336 - val_f1_score: 0.7948\n",
            "Epoch 2/2\n",
            "203/203 [==============================] - 171s 843ms/step - loss: 0.3727 - accuracy: 0.8594 - f1_score: 0.8247 - val_loss: 0.3856 - val_accuracy: 0.8529 - val_f1_score: 0.8158\n",
            "Epoch 1/2\n",
            "203/203 [==============================] - 86s 355ms/step - loss: 0.6224 - accuracy: 0.6084 - f1_score: 0.1686 - val_loss: 0.5577 - val_accuracy: 0.7110 - val_f1_score: 0.4954\n",
            "Epoch 2/2\n",
            "203/203 [==============================] - 67s 329ms/step - loss: 0.5028 - accuracy: 0.7921 - f1_score: 0.6882 - val_loss: 0.4641 - val_accuracy: 0.8441 - val_f1_score: 0.7916\n",
            "Epoch 1/2\n",
            "203/203 [==============================] - 86s 355ms/step - loss: 0.6142 - accuracy: 0.7450 - f1_score: 0.7141 - val_loss: 0.5737 - val_accuracy: 0.8319 - val_f1_score: 0.7913\n",
            "Epoch 2/2\n",
            "203/203 [==============================] - 67s 328ms/step - loss: 0.5460 - accuracy: 0.8391 - f1_score: 0.8049 - val_loss: 0.5139 - val_accuracy: 0.8476 - val_f1_score: 0.8079\n",
            "Epoch 1/2\n",
            "203/203 [==============================] - 85s 349ms/step - loss: 0.6058 - accuracy: 0.7473 - f1_score: 0.6618 - val_loss: 0.5163 - val_accuracy: 0.8529 - val_f1_score: 0.8174\n",
            "Epoch 2/2\n",
            "203/203 [==============================] - 67s 329ms/step - loss: 0.4696 - accuracy: 0.8703 - f1_score: 0.8360 - val_loss: 0.4311 - val_accuracy: 0.8529 - val_f1_score: 0.8182\n",
            "Epoch 1/2\n",
            "203/203 [==============================] - 85s 349ms/step - loss: 0.6118 - accuracy: 0.7359 - f1_score: 0.6852 - val_loss: 0.5347 - val_accuracy: 0.8494 - val_f1_score: 0.8054\n",
            "Epoch 2/2\n",
            "203/203 [==============================] - 67s 328ms/step - loss: 0.4973 - accuracy: 0.8546 - f1_score: 0.8152 - val_loss: 0.4551 - val_accuracy: 0.8546 - val_f1_score: 0.8151\n",
            "Epoch 1/2\n",
            "203/203 [==============================] - 86s 349ms/step - loss: 0.5847 - accuracy: 0.8036 - f1_score: 0.7523 - val_loss: 0.5101 - val_accuracy: 0.8546 - val_f1_score: 0.8143\n",
            "Epoch 2/2\n",
            "203/203 [==============================] - 67s 328ms/step - loss: 0.4580 - accuracy: 0.8758 - f1_score: 0.8403 - val_loss: 0.4315 - val_accuracy: 0.8546 - val_f1_score: 0.8168\n",
            "Epoch 1/2\n",
            "203/203 [==============================] - 85s 350ms/step - loss: 0.5526 - accuracy: 0.7898 - f1_score: 0.7781 - val_loss: 0.4798 - val_accuracy: 0.8389 - val_f1_score: 0.8034\n",
            "Epoch 2/2\n",
            "203/203 [==============================] - 66s 328ms/step - loss: 0.4282 - accuracy: 0.8826 - f1_score: 0.8540 - val_loss: 0.4133 - val_accuracy: 0.8476 - val_f1_score: 0.8121\n"
          ]
        }
      ]
    },
    {
      "cell_type": "code",
      "source": [
        "results = pd.DataFrame(results).sort_values('f1', ascending=False)\n",
        "model = results.model[1]\n",
        "\n",
        "results\n",
        "#Epoch 2/2\n",
        "#203/203 [==============================] - 67s 329ms/step - loss: 0.4696 - accuracy: 0.8703 - f1_score: 0.8360 - val_loss: 0.4311 - val_accuracy: 0.8529 - val_f1_score: 0.8182"
      ],
      "metadata": {
        "colab": {
          "base_uri": "https://localhost:8080/",
          "height": 269
        },
        "id": "i3xahrHC_aIZ",
        "outputId": "b863fe57-7ffc-4e5c-efe6-00ed42c7f168"
      },
      "execution_count": 42,
      "outputs": [
        {
          "output_type": "execute_result",
          "data": {
            "text/plain": [
              "   hidden_n  drop        lr  weight_decay  \\\n",
              "3        32  0.25  0.000010  5.000000e-06   \n",
              "5        64  0.30  0.000010  1.000000e-06   \n",
              "0        16  0.30  0.000010  1.000000e-06   \n",
              "4        32  0.35  0.000010  5.000000e-07   \n",
              "6        64  0.30  0.000010  5.000000e-06   \n",
              "2        32  0.30  0.000005  1.000000e-06   \n",
              "1        32  0.30  0.000010  1.000000e-06   \n",
              "\n",
              "                                                           model        f1  \n",
              "3  <keras.engine.functional.Functional object at 0x7fe2ed31b210>  0.818182  \n",
              "5  <keras.engine.functional.Functional object at 0x7fe2e2312590>  0.816777  \n",
              "0  <keras.engine.functional.Functional object at 0x7fe507733810>  0.815789  \n",
              "4  <keras.engine.functional.Functional object at 0x7fe2e820a4d0>  0.815145  \n",
              "6  <keras.engine.functional.Functional object at 0x7fe2da90ec90>  0.812095  \n",
              "2  <keras.engine.functional.Functional object at 0x7fe4712f8110>  0.807947  \n",
              "1  <keras.engine.functional.Functional object at 0x7fe50772a4d0>  0.791569  "
            ],
            "text/html": [
              "\n",
              "  <div id=\"df-47631dcf-93dc-4f8b-b92f-eccd73f7fe08\">\n",
              "    <div class=\"colab-df-container\">\n",
              "      <div>\n",
              "<style scoped>\n",
              "    .dataframe tbody tr th:only-of-type {\n",
              "        vertical-align: middle;\n",
              "    }\n",
              "\n",
              "    .dataframe tbody tr th {\n",
              "        vertical-align: top;\n",
              "    }\n",
              "\n",
              "    .dataframe thead th {\n",
              "        text-align: right;\n",
              "    }\n",
              "</style>\n",
              "<table border=\"1\" class=\"dataframe\">\n",
              "  <thead>\n",
              "    <tr style=\"text-align: right;\">\n",
              "      <th></th>\n",
              "      <th>hidden_n</th>\n",
              "      <th>drop</th>\n",
              "      <th>lr</th>\n",
              "      <th>weight_decay</th>\n",
              "      <th>model</th>\n",
              "      <th>f1</th>\n",
              "    </tr>\n",
              "  </thead>\n",
              "  <tbody>\n",
              "    <tr>\n",
              "      <th>3</th>\n",
              "      <td>32</td>\n",
              "      <td>0.25</td>\n",
              "      <td>0.000010</td>\n",
              "      <td>5.000000e-06</td>\n",
              "      <td>&lt;keras.engine.functional.Functional object at 0x7fe2ed31b210&gt;</td>\n",
              "      <td>0.818182</td>\n",
              "    </tr>\n",
              "    <tr>\n",
              "      <th>5</th>\n",
              "      <td>64</td>\n",
              "      <td>0.30</td>\n",
              "      <td>0.000010</td>\n",
              "      <td>1.000000e-06</td>\n",
              "      <td>&lt;keras.engine.functional.Functional object at 0x7fe2e2312590&gt;</td>\n",
              "      <td>0.816777</td>\n",
              "    </tr>\n",
              "    <tr>\n",
              "      <th>0</th>\n",
              "      <td>16</td>\n",
              "      <td>0.30</td>\n",
              "      <td>0.000010</td>\n",
              "      <td>1.000000e-06</td>\n",
              "      <td>&lt;keras.engine.functional.Functional object at 0x7fe507733810&gt;</td>\n",
              "      <td>0.815789</td>\n",
              "    </tr>\n",
              "    <tr>\n",
              "      <th>4</th>\n",
              "      <td>32</td>\n",
              "      <td>0.35</td>\n",
              "      <td>0.000010</td>\n",
              "      <td>5.000000e-07</td>\n",
              "      <td>&lt;keras.engine.functional.Functional object at 0x7fe2e820a4d0&gt;</td>\n",
              "      <td>0.815145</td>\n",
              "    </tr>\n",
              "    <tr>\n",
              "      <th>6</th>\n",
              "      <td>64</td>\n",
              "      <td>0.30</td>\n",
              "      <td>0.000010</td>\n",
              "      <td>5.000000e-06</td>\n",
              "      <td>&lt;keras.engine.functional.Functional object at 0x7fe2da90ec90&gt;</td>\n",
              "      <td>0.812095</td>\n",
              "    </tr>\n",
              "    <tr>\n",
              "      <th>2</th>\n",
              "      <td>32</td>\n",
              "      <td>0.30</td>\n",
              "      <td>0.000005</td>\n",
              "      <td>1.000000e-06</td>\n",
              "      <td>&lt;keras.engine.functional.Functional object at 0x7fe4712f8110&gt;</td>\n",
              "      <td>0.807947</td>\n",
              "    </tr>\n",
              "    <tr>\n",
              "      <th>1</th>\n",
              "      <td>32</td>\n",
              "      <td>0.30</td>\n",
              "      <td>0.000010</td>\n",
              "      <td>1.000000e-06</td>\n",
              "      <td>&lt;keras.engine.functional.Functional object at 0x7fe50772a4d0&gt;</td>\n",
              "      <td>0.791569</td>\n",
              "    </tr>\n",
              "  </tbody>\n",
              "</table>\n",
              "</div>\n",
              "      <button class=\"colab-df-convert\" onclick=\"convertToInteractive('df-47631dcf-93dc-4f8b-b92f-eccd73f7fe08')\"\n",
              "              title=\"Convert this dataframe to an interactive table.\"\n",
              "              style=\"display:none;\">\n",
              "        \n",
              "  <svg xmlns=\"http://www.w3.org/2000/svg\" height=\"24px\"viewBox=\"0 0 24 24\"\n",
              "       width=\"24px\">\n",
              "    <path d=\"M0 0h24v24H0V0z\" fill=\"none\"/>\n",
              "    <path d=\"M18.56 5.44l.94 2.06.94-2.06 2.06-.94-2.06-.94-.94-2.06-.94 2.06-2.06.94zm-11 1L8.5 8.5l.94-2.06 2.06-.94-2.06-.94L8.5 2.5l-.94 2.06-2.06.94zm10 10l.94 2.06.94-2.06 2.06-.94-2.06-.94-.94-2.06-.94 2.06-2.06.94z\"/><path d=\"M17.41 7.96l-1.37-1.37c-.4-.4-.92-.59-1.43-.59-.52 0-1.04.2-1.43.59L10.3 9.45l-7.72 7.72c-.78.78-.78 2.05 0 2.83L4 21.41c.39.39.9.59 1.41.59.51 0 1.02-.2 1.41-.59l7.78-7.78 2.81-2.81c.8-.78.8-2.07 0-2.86zM5.41 20L4 18.59l7.72-7.72 1.47 1.35L5.41 20z\"/>\n",
              "  </svg>\n",
              "      </button>\n",
              "      \n",
              "  <style>\n",
              "    .colab-df-container {\n",
              "      display:flex;\n",
              "      flex-wrap:wrap;\n",
              "      gap: 12px;\n",
              "    }\n",
              "\n",
              "    .colab-df-convert {\n",
              "      background-color: #E8F0FE;\n",
              "      border: none;\n",
              "      border-radius: 50%;\n",
              "      cursor: pointer;\n",
              "      display: none;\n",
              "      fill: #1967D2;\n",
              "      height: 32px;\n",
              "      padding: 0 0 0 0;\n",
              "      width: 32px;\n",
              "    }\n",
              "\n",
              "    .colab-df-convert:hover {\n",
              "      background-color: #E2EBFA;\n",
              "      box-shadow: 0px 1px 2px rgba(60, 64, 67, 0.3), 0px 1px 3px 1px rgba(60, 64, 67, 0.15);\n",
              "      fill: #174EA6;\n",
              "    }\n",
              "\n",
              "    [theme=dark] .colab-df-convert {\n",
              "      background-color: #3B4455;\n",
              "      fill: #D2E3FC;\n",
              "    }\n",
              "\n",
              "    [theme=dark] .colab-df-convert:hover {\n",
              "      background-color: #434B5C;\n",
              "      box-shadow: 0px 1px 3px 1px rgba(0, 0, 0, 0.15);\n",
              "      filter: drop-shadow(0px 1px 2px rgba(0, 0, 0, 0.3));\n",
              "      fill: #FFFFFF;\n",
              "    }\n",
              "  </style>\n",
              "\n",
              "      <script>\n",
              "        const buttonEl =\n",
              "          document.querySelector('#df-47631dcf-93dc-4f8b-b92f-eccd73f7fe08 button.colab-df-convert');\n",
              "        buttonEl.style.display =\n",
              "          google.colab.kernel.accessAllowed ? 'block' : 'none';\n",
              "\n",
              "        async function convertToInteractive(key) {\n",
              "          const element = document.querySelector('#df-47631dcf-93dc-4f8b-b92f-eccd73f7fe08');\n",
              "          const dataTable =\n",
              "            await google.colab.kernel.invokeFunction('convertToInteractive',\n",
              "                                                     [key], {});\n",
              "          if (!dataTable) return;\n",
              "\n",
              "          const docLinkHtml = 'Like what you see? Visit the ' +\n",
              "            '<a target=\"_blank\" href=https://colab.research.google.com/notebooks/data_table.ipynb>data table notebook</a>'\n",
              "            + ' to learn more about interactive tables.';\n",
              "          element.innerHTML = '';\n",
              "          dataTable['output_type'] = 'display_data';\n",
              "          await google.colab.output.renderOutput(dataTable, element);\n",
              "          const docLink = document.createElement('div');\n",
              "          docLink.innerHTML = docLinkHtml;\n",
              "          element.appendChild(docLink);\n",
              "        }\n",
              "      </script>\n",
              "    </div>\n",
              "  </div>\n",
              "  "
            ]
          },
          "metadata": {},
          "execution_count": 42
        }
      ]
    },
    {
      "cell_type": "code",
      "source": [
        "results.model[1].metrics"
      ],
      "metadata": {
        "colab": {
          "base_uri": "https://localhost:8080/"
        },
        "id": "z_93BiCjzRxH",
        "outputId": "535eae31-419c-4832-8093-7cc8e1de593c"
      },
      "execution_count": 105,
      "outputs": [
        {
          "output_type": "execute_result",
          "data": {
            "text/plain": [
              "[<keras.metrics.base_metric.Mean at 0x7fe4712ee590>,\n",
              " <keras.metrics.base_metric.MeanMetricWrapper at 0x7fe470093090>,\n",
              " <tensorflow_addons.metrics.f_scores.F1Score at 0x7fe4712ee650>]"
            ]
          },
          "metadata": {},
          "execution_count": 105
        }
      ]
    },
    {
      "cell_type": "code",
      "source": [
        "testing_df = pd.DataFrame(x_test, y_test)\n",
        "token = tokenizer(x_test.tolist(), \n",
        "                  padding=\"max_length\", \n",
        "                  truncation=True,\n",
        "                  return_tensors = 'tf').data\n",
        "\n",
        "\n"
      ],
      "metadata": {
        "id": "R8aeQnm5s2AI"
      },
      "execution_count": 70,
      "outputs": []
    },
    {
      "cell_type": "code",
      "source": [
        "testing_df =pd.concat([pd.DataFrame(x_test), pd.DataFrame(y_test)],axis = 1)\n",
        "testing_df.columns = ['text', 'target']"
      ],
      "metadata": {
        "id": "JKIe4MWRukKa"
      },
      "execution_count": 93,
      "outputs": []
    },
    {
      "cell_type": "code",
      "source": [
        "preds = model.predict(token)\n",
        "\n",
        "#testing_df['target'] = (df['p'] > 0.5).astype(int)"
      ],
      "metadata": {
        "colab": {
          "base_uri": "https://localhost:8080/"
        },
        "id": "zp1vC0F8uv6d",
        "outputId": "27b8d403-e8eb-44da-c8ad-302fb64860f5"
      },
      "execution_count": 94,
      "outputs": [
        {
          "output_type": "stream",
          "name": "stdout",
          "text": [
            "18/18 [==============================] - 5s 272ms/step\n"
          ]
        }
      ]
    },
    {
      "cell_type": "code",
      "source": [
        "preds[0][0]"
      ],
      "metadata": {
        "colab": {
          "base_uri": "https://localhost:8080/"
        },
        "id": "xhFXznAy5Mut",
        "outputId": "32cb0daa-bedb-42b6-a373-c8482519ba01"
      },
      "execution_count": 113,
      "outputs": [
        {
          "output_type": "execute_result",
          "data": {
            "text/plain": [
              "0.61500734"
            ]
          },
          "metadata": {},
          "execution_count": 113
        }
      ]
    },
    {
      "cell_type": "code",
      "source": [
        "testing_df['p'] = ''\n",
        "for i in range(len(testing_df)):\n",
        "  testing_df[\"p\"][i] = preds[i][0]\n",
        "               "
      ],
      "metadata": {
        "colab": {
          "base_uri": "https://localhost:8080/"
        },
        "id": "4LKQrJTRxGsy",
        "outputId": "a3bb5df1-9911-4746-f5bb-e7e6fb7fe864"
      },
      "execution_count": 95,
      "outputs": [
        {
          "output_type": "stream",
          "name": "stderr",
          "text": [
            "/usr/local/lib/python3.7/dist-packages/ipykernel_launcher.py:3: SettingWithCopyWarning: \n",
            "A value is trying to be set on a copy of a slice from a DataFrame\n",
            "\n",
            "See the caveats in the documentation: https://pandas.pydata.org/pandas-docs/stable/user_guide/indexing.html#returning-a-view-versus-a-copy\n",
            "  This is separate from the ipykernel package so we can avoid doing imports until\n"
          ]
        }
      ]
    },
    {
      "cell_type": "code",
      "source": [
        "testing_df['target_pred'] = (testing_df['p'] > 0.5).astype(int)"
      ],
      "metadata": {
        "id": "aUJOEnSPxOar"
      },
      "execution_count": 96,
      "outputs": []
    },
    {
      "cell_type": "code",
      "source": [
        "\n",
        "testing_df"
      ],
      "metadata": {
        "colab": {
          "base_uri": "https://localhost:8080/",
          "height": 554
        },
        "id": "lJ6T5qywx8ev",
        "outputId": "0ead7bdf-fa47-4c74-edef-c38c84e39b56"
      },
      "execution_count": 97,
      "outputs": [
        {
          "output_type": "execute_result",
          "data": {
            "text/plain": [
              "                                                                                                                                          text  \\\n",
              "0                     over half of poll respondents worry nuclear disaster fading from public consciousness http://t.co/ytnnnd631z ##fukushima   \n",
              "1             that horrible sinking feeling when you ªve been at home on your phone for a while and you realise its been on 3g this whole time   \n",
              "2                                                    @davidcovucci we cannot because a sinkhole swallowed every taco place in the neighborhood   \n",
              "3                                                                                                              a wasp just dive bombed my face   \n",
              "4         133 n past the 5 l lane is reopened. all other lanes are closed. all lanes are open on the 133 s. trash truck fire cleanup. @knx1070   \n",
              "..                                                                                                                                         ...   \n",
              "566                                                                                          someone split a mudslide w me when i get off work   \n",
              "567    breakfast links: work from home: derailed: an empty train derailed at smithsonian this morning suspending ser... http://t.co/id4qgqdnjq   \n",
              "568  rocky fire in northern california swells to 60000 acres; 12000 evacuated http://t.co/mtfnbhryzq portland #phoenix #miami #atlanta #casper   \n",
              "569                                          i get this feeling that society will collapse or implode. so do not be a hero and play your part.   \n",
              "570                                                         finnish ministers: fennovoima nuclear reactor will go ahead http://t.co/mqmcolwbzc   \n",
              "\n",
              "     target         p  target_pred  \n",
              "0         0  0.615007            1  \n",
              "1         1  0.197925            0  \n",
              "2         0  0.545857            1  \n",
              "3         0  0.256245            0  \n",
              "4         1   0.64543            1  \n",
              "..      ...       ...          ...  \n",
              "566       0  0.168821            0  \n",
              "567       1  0.679854            1  \n",
              "568       1  0.682984            1  \n",
              "569       0  0.211926            0  \n",
              "570       0   0.42415            0  \n",
              "\n",
              "[571 rows x 4 columns]"
            ],
            "text/html": [
              "\n",
              "  <div id=\"df-f04b9792-16ec-402c-a3e4-d0c726c5e6fd\">\n",
              "    <div class=\"colab-df-container\">\n",
              "      <div>\n",
              "<style scoped>\n",
              "    .dataframe tbody tr th:only-of-type {\n",
              "        vertical-align: middle;\n",
              "    }\n",
              "\n",
              "    .dataframe tbody tr th {\n",
              "        vertical-align: top;\n",
              "    }\n",
              "\n",
              "    .dataframe thead th {\n",
              "        text-align: right;\n",
              "    }\n",
              "</style>\n",
              "<table border=\"1\" class=\"dataframe\">\n",
              "  <thead>\n",
              "    <tr style=\"text-align: right;\">\n",
              "      <th></th>\n",
              "      <th>text</th>\n",
              "      <th>target</th>\n",
              "      <th>p</th>\n",
              "      <th>target_pred</th>\n",
              "    </tr>\n",
              "  </thead>\n",
              "  <tbody>\n",
              "    <tr>\n",
              "      <th>0</th>\n",
              "      <td>over half of poll respondents worry nuclear disaster fading from public consciousness http://t.co/ytnnnd631z ##fukushima</td>\n",
              "      <td>0</td>\n",
              "      <td>0.615007</td>\n",
              "      <td>1</td>\n",
              "    </tr>\n",
              "    <tr>\n",
              "      <th>1</th>\n",
              "      <td>that horrible sinking feeling when you ªve been at home on your phone for a while and you realise its been on 3g this whole time</td>\n",
              "      <td>1</td>\n",
              "      <td>0.197925</td>\n",
              "      <td>0</td>\n",
              "    </tr>\n",
              "    <tr>\n",
              "      <th>2</th>\n",
              "      <td>@davidcovucci we cannot because a sinkhole swallowed every taco place in the neighborhood</td>\n",
              "      <td>0</td>\n",
              "      <td>0.545857</td>\n",
              "      <td>1</td>\n",
              "    </tr>\n",
              "    <tr>\n",
              "      <th>3</th>\n",
              "      <td>a wasp just dive bombed my face</td>\n",
              "      <td>0</td>\n",
              "      <td>0.256245</td>\n",
              "      <td>0</td>\n",
              "    </tr>\n",
              "    <tr>\n",
              "      <th>4</th>\n",
              "      <td>133 n past the 5 l lane is reopened. all other lanes are closed. all lanes are open on the 133 s. trash truck fire cleanup. @knx1070</td>\n",
              "      <td>1</td>\n",
              "      <td>0.64543</td>\n",
              "      <td>1</td>\n",
              "    </tr>\n",
              "    <tr>\n",
              "      <th>...</th>\n",
              "      <td>...</td>\n",
              "      <td>...</td>\n",
              "      <td>...</td>\n",
              "      <td>...</td>\n",
              "    </tr>\n",
              "    <tr>\n",
              "      <th>566</th>\n",
              "      <td>someone split a mudslide w me when i get off work</td>\n",
              "      <td>0</td>\n",
              "      <td>0.168821</td>\n",
              "      <td>0</td>\n",
              "    </tr>\n",
              "    <tr>\n",
              "      <th>567</th>\n",
              "      <td>breakfast links: work from home: derailed: an empty train derailed at smithsonian this morning suspending ser... http://t.co/id4qgqdnjq</td>\n",
              "      <td>1</td>\n",
              "      <td>0.679854</td>\n",
              "      <td>1</td>\n",
              "    </tr>\n",
              "    <tr>\n",
              "      <th>568</th>\n",
              "      <td>rocky fire in northern california swells to 60000 acres; 12000 evacuated http://t.co/mtfnbhryzq portland #phoenix #miami #atlanta #casper</td>\n",
              "      <td>1</td>\n",
              "      <td>0.682984</td>\n",
              "      <td>1</td>\n",
              "    </tr>\n",
              "    <tr>\n",
              "      <th>569</th>\n",
              "      <td>i get this feeling that society will collapse or implode. so do not be a hero and play your part.</td>\n",
              "      <td>0</td>\n",
              "      <td>0.211926</td>\n",
              "      <td>0</td>\n",
              "    </tr>\n",
              "    <tr>\n",
              "      <th>570</th>\n",
              "      <td>finnish ministers: fennovoima nuclear reactor will go ahead http://t.co/mqmcolwbzc</td>\n",
              "      <td>0</td>\n",
              "      <td>0.42415</td>\n",
              "      <td>0</td>\n",
              "    </tr>\n",
              "  </tbody>\n",
              "</table>\n",
              "<p>571 rows × 4 columns</p>\n",
              "</div>\n",
              "      <button class=\"colab-df-convert\" onclick=\"convertToInteractive('df-f04b9792-16ec-402c-a3e4-d0c726c5e6fd')\"\n",
              "              title=\"Convert this dataframe to an interactive table.\"\n",
              "              style=\"display:none;\">\n",
              "        \n",
              "  <svg xmlns=\"http://www.w3.org/2000/svg\" height=\"24px\"viewBox=\"0 0 24 24\"\n",
              "       width=\"24px\">\n",
              "    <path d=\"M0 0h24v24H0V0z\" fill=\"none\"/>\n",
              "    <path d=\"M18.56 5.44l.94 2.06.94-2.06 2.06-.94-2.06-.94-.94-2.06-.94 2.06-2.06.94zm-11 1L8.5 8.5l.94-2.06 2.06-.94-2.06-.94L8.5 2.5l-.94 2.06-2.06.94zm10 10l.94 2.06.94-2.06 2.06-.94-2.06-.94-.94-2.06-.94 2.06-2.06.94z\"/><path d=\"M17.41 7.96l-1.37-1.37c-.4-.4-.92-.59-1.43-.59-.52 0-1.04.2-1.43.59L10.3 9.45l-7.72 7.72c-.78.78-.78 2.05 0 2.83L4 21.41c.39.39.9.59 1.41.59.51 0 1.02-.2 1.41-.59l7.78-7.78 2.81-2.81c.8-.78.8-2.07 0-2.86zM5.41 20L4 18.59l7.72-7.72 1.47 1.35L5.41 20z\"/>\n",
              "  </svg>\n",
              "      </button>\n",
              "      \n",
              "  <style>\n",
              "    .colab-df-container {\n",
              "      display:flex;\n",
              "      flex-wrap:wrap;\n",
              "      gap: 12px;\n",
              "    }\n",
              "\n",
              "    .colab-df-convert {\n",
              "      background-color: #E8F0FE;\n",
              "      border: none;\n",
              "      border-radius: 50%;\n",
              "      cursor: pointer;\n",
              "      display: none;\n",
              "      fill: #1967D2;\n",
              "      height: 32px;\n",
              "      padding: 0 0 0 0;\n",
              "      width: 32px;\n",
              "    }\n",
              "\n",
              "    .colab-df-convert:hover {\n",
              "      background-color: #E2EBFA;\n",
              "      box-shadow: 0px 1px 2px rgba(60, 64, 67, 0.3), 0px 1px 3px 1px rgba(60, 64, 67, 0.15);\n",
              "      fill: #174EA6;\n",
              "    }\n",
              "\n",
              "    [theme=dark] .colab-df-convert {\n",
              "      background-color: #3B4455;\n",
              "      fill: #D2E3FC;\n",
              "    }\n",
              "\n",
              "    [theme=dark] .colab-df-convert:hover {\n",
              "      background-color: #434B5C;\n",
              "      box-shadow: 0px 1px 3px 1px rgba(0, 0, 0, 0.15);\n",
              "      filter: drop-shadow(0px 1px 2px rgba(0, 0, 0, 0.3));\n",
              "      fill: #FFFFFF;\n",
              "    }\n",
              "  </style>\n",
              "\n",
              "      <script>\n",
              "        const buttonEl =\n",
              "          document.querySelector('#df-f04b9792-16ec-402c-a3e4-d0c726c5e6fd button.colab-df-convert');\n",
              "        buttonEl.style.display =\n",
              "          google.colab.kernel.accessAllowed ? 'block' : 'none';\n",
              "\n",
              "        async function convertToInteractive(key) {\n",
              "          const element = document.querySelector('#df-f04b9792-16ec-402c-a3e4-d0c726c5e6fd');\n",
              "          const dataTable =\n",
              "            await google.colab.kernel.invokeFunction('convertToInteractive',\n",
              "                                                     [key], {});\n",
              "          if (!dataTable) return;\n",
              "\n",
              "          const docLinkHtml = 'Like what you see? Visit the ' +\n",
              "            '<a target=\"_blank\" href=https://colab.research.google.com/notebooks/data_table.ipynb>data table notebook</a>'\n",
              "            + ' to learn more about interactive tables.';\n",
              "          element.innerHTML = '';\n",
              "          dataTable['output_type'] = 'display_data';\n",
              "          await google.colab.output.renderOutput(dataTable, element);\n",
              "          const docLink = document.createElement('div');\n",
              "          docLink.innerHTML = docLinkHtml;\n",
              "          element.appendChild(docLink);\n",
              "        }\n",
              "      </script>\n",
              "    </div>\n",
              "  </div>\n",
              "  "
            ]
          },
          "metadata": {},
          "execution_count": 97
        }
      ]
    },
    {
      "cell_type": "code",
      "source": [
        "def compute_accuracy(y_true, y_pred):\n",
        "    correct_predictions = 0\n",
        "    # iterate over each label and check\n",
        "    for true, predicted in zip(y_true, y_pred):\n",
        "        if true == predicted:\n",
        "            correct_predictions += 1\n",
        "    # compute the accuracy\n",
        "    accuracy = correct_predictions/len(y_true)\n",
        "    return accuracy"
      ],
      "metadata": {
        "id": "JWGJLAMfyWab"
      },
      "execution_count": 99,
      "outputs": []
    },
    {
      "cell_type": "code",
      "source": [
        "compute_accuracy(testing_df['target'], testing_df['target_pred'])"
      ],
      "metadata": {
        "colab": {
          "base_uri": "https://localhost:8080/"
        },
        "id": "v-7fRUmxy7kE",
        "outputId": "4a34bb3e-3cbd-4d62-f51e-fe1619b3ede7"
      },
      "execution_count": 100,
      "outputs": [
        {
          "output_type": "execute_result",
          "data": {
            "text/plain": [
              "0.8178633975481612"
            ]
          },
          "metadata": {},
          "execution_count": 100
        }
      ]
    },
    {
      "cell_type": "code",
      "source": [
        "\t\n",
        "metrics.roc_auc_score(testing_df['target'], testing_df['target_pred'])"
      ],
      "metadata": {
        "colab": {
          "base_uri": "https://localhost:8080/"
        },
        "id": "vNJye0-VB_QN",
        "outputId": "0f338d5a-d4c1-4326-9d5e-4a578bf6cc71"
      },
      "execution_count": 117,
      "outputs": [
        {
          "output_type": "execute_result",
          "data": {
            "text/plain": [
              "0.7970168855534709"
            ]
          },
          "metadata": {},
          "execution_count": 117
        }
      ]
    },
    {
      "cell_type": "code",
      "source": [
        "from sklearn.metrics import confusion_matrix\n",
        "confusion_matrix(testing_df['target'], testing_df['target_pred'])"
      ],
      "metadata": {
        "colab": {
          "base_uri": "https://localhost:8080/"
        },
        "id": "aLIVe65UzD2m",
        "outputId": "fb4d7493-3b47-496b-8718-57c0fa97ed5f"
      },
      "execution_count": 106,
      "outputs": [
        {
          "output_type": "execute_result",
          "data": {
            "text/plain": [
              "array([[308,  17],\n",
              "       [ 87, 159]])"
            ]
          },
          "metadata": {},
          "execution_count": 106
        }
      ]
    },
    {
      "cell_type": "code",
      "source": [
        "import matplotlib.pyplot as plt\n",
        "import numpy\n",
        "from sklearn import metrics\n",
        "\n",
        "\n",
        "confusion_matrix = metrics.confusion_matrix(testing_df['target'], testing_df['target_pred'])\n",
        "\n",
        "cm_display = metrics.ConfusionMatrixDisplay(confusion_matrix = confusion_matrix, display_labels = [0, 1])\n",
        "\n",
        "cm_display.plot()\n",
        "plt.show()"
      ],
      "metadata": {
        "colab": {
          "base_uri": "https://localhost:8080/",
          "height": 279
        },
        "id": "J1C-5jwL0Qxm",
        "outputId": "e080afd5-dffb-49e4-9f4c-ef45ca967f29"
      },
      "execution_count": 114,
      "outputs": [
        {
          "output_type": "display_data",
          "data": {
            "text/plain": [
              "<Figure size 432x288 with 2 Axes>"
            ],
            "image/png": "[encoded data removed]"
          },
          "metadata": {
            "needs_background": "light"
          }
        }
      ]
    },
    {
      "cell_type": "code",
      "source": [
        "test_df.valuecount"
      ],
      "metadata": {
        "id": "FovTQXXQ0wLT"
      },
      "execution_count": null,
      "outputs": []
    }
  ]
}